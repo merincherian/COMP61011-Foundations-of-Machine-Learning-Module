{
 "cells": [
  {
   "cell_type": "markdown",
   "metadata": {},
   "source": [
    "# Assignment Brief: Convolutional Neural Networks in PyTorch  \n",
    "\n",
    "## Deadline: 03 November 2023, 14:00 GMT\n",
    "\n",
    "## Number of marks available: 10\n",
    "\n",
    "In this practical, we will build a convolutional neural network to classify handwritten digits. More specifically, we will use the MNIST dataset to implement and evaluate a neural network-based model for classification of handwritten digits. The main aim is for you to learn, enjoy, and hopefully benefit from it.\n",
    "\n",
    "You should implement and test your solution in PyTorch. \n",
    "\n",
    "### Please READ the whole assignment first, before starting to work on it.\n",
    "\n",
    "### How and what to submit\n",
    "\n",
    "A. A **Jupyter Notebook** with the code in all the cells executed and outputs displayed.\n",
    "\n",
    "B. Name your Notebook **COMP61011_AssignmentA2_XXXXXX.ipynb** where XXXXXX is your username such as such as abc18de. Example: `COMP61011_AssignmentA2_abc18de.ipynb`\n",
    "\n",
    "C. Upload the Jupyter Notebook in B to Blackboard under the **Computing Assignment (pytorch)** submission area before the deadline. **Please pay close attention to submitting to the right place!**\n",
    "\n",
    "D. **NO DATA UPLOAD**: Please do not upload the data files used in this Notebook. We have a copy already. \n",
    "\n",
    "\n",
    "### Assessment Criteria \n",
    "\n",
    "* Being able to use PyTorch to build, train, and evaluate a Convolutional Neural Network for supervised learning.\n",
    "\n",
    "* Understanding the architecture of a Convolutional Neural Network, and gaining practical experience in designing and training such a network.\n",
    "\n",
    "* Understanding concepts such as convolution, pooling, and padding, and how they are used in a Convolutional Neural Network. Understanding loss and activation functions. \n",
    "\n",
    "* Being able to monitor and report the performance of a neural network on a given dataset with respect to accuracy and the chosen loss function.\n",
    "\n",
    "### Code quality and use of Python libraries\n",
    "When writing your code, you will find out that there are operations that are repeated at least twice. These operations should be carried out in functions. Furthermore, if your code is unreadable, we may not award marks for that section. Make sure to check the following:\n",
    "\n",
    "* Did you include Python functions to solve the question and avoid repeating code? \n",
    "* Did you comment your code to make it readable to others?\n",
    "\n",
    "Furthermore, please try to avoid using any imports apart from the ones already provided in the Notebook. You can easily install all recommended modules for this assignment by running the following command in your terminal: `python -m pip install -r requirements.txt`\n",
    "\n",
    "\n",
    "### Late submissions\n",
    "\n",
    "We follow Department's guidelines about late submissions, i.e., a deduction of 10% of the mark each 24 hours the work is late after the deadline. NO late submission will be marked one week after the deadline. Please read [this link](https://wiki.cs.manchester.ac.uk/index.php/UGHandbook23:Main#Late_Submission_of_Coursework_Penalty). \n",
    "\n",
    "### Use of unfair means \n",
    "\n",
    "**Any form of unfair means is treated as a serious academic offence and action may be taken under the Discipline Regulations.** Please carefully read [what constitutes Unfair Means](https://documents.manchester.ac.uk/display.aspx?DocID=2870) if not sure. If you still have questions, please ask your Personal tutor or the Lecturers.\n",
    "\n",
    "-------------------------------"
   ]
  },
  {
   "cell_type": "markdown",
   "metadata": {},
   "source": [
    "## Background\n",
    "\n",
    "Read about convolution and [how 2-D convolution](https://pytorch.org/docs/stable/generated/torch.nn.Conv2d.html) and  [Max-pooling](https://pytorch.org/docs/stable/generated/torch.nn.MaxPool2d.html) are implemented in PyTorch.\n",
    "\n",
    "It would help you review the lecture notes to understand how the size of the next layer is computed; you may need to specify these as parameters, rather than them being inferred based on the model specification. Also be sure to understand the difference between `valid` and `same` padding. It'll help to understand how the sizes are affected by strides, padding, etc., in order to implement the network properly.\n",
    "\n",
    "For further reading on CNNs, you may wish to visit the [CS132n course site](https://cs231n.github.io/convolutional-networks/). For a much more in-depth guide to convolution arithmetic, see [this 2016 paper](https://arxiv.org/pdf/1603.07285v1.pdf)."
   ]
  },
  {
   "cell_type": "markdown",
   "metadata": {},
   "source": [
    "## Loading the MNIST dataset\n",
    "For your convenience, the required python modules for this assignment have been provided in `requirements.txt`. You can run the following terminal command to install them: `python -m pip install -r requirements.txt`\n",
    "\n",
    "A copy of the MNIST dataset is included in PyTorch. We will download it, then load it into memory using the `torchvision` module."
   ]
  },
  {
   "cell_type": "code",
   "execution_count": 1,
   "metadata": {},
   "outputs": [
    {
     "data": {
      "text/plain": [
       "Dataset MNIST\n",
       "    Number of datapoints: 60000\n",
       "    Root location: \n",
       "    Split: Train\n",
       "    StandardTransform\n",
       "Transform: Compose(\n",
       "               ToTensor()\n",
       "               Normalize(mean=(0.1307,), std=(0.3081,))\n",
       "           )"
      ]
     },
     "execution_count": 1,
     "metadata": {},
     "output_type": "execute_result"
    }
   ],
   "source": [
    "import torch, torchvision, torchsummary\n",
    "import numpy as np\n",
    "import matplotlib.pyplot as plt\n",
    "\n",
    "# The values 0.1307 and 0.3081 used for the Normalize() transformation below are the global mean and standard \n",
    "# deviation of the MNIST dataset. This is equivalent to scaling all pixel values between [0, 1].\n",
    "transform = torchvision.transforms.Compose([\n",
    "              torchvision.transforms.ToTensor(),\n",
    "              torchvision.transforms.Normalize(\n",
    "                (0.1307,), (0.3081,))\n",
    "            ])\n",
    "\n",
    "train_data = torchvision.datasets.MNIST('', train=True, download=True, transform=transform)\n",
    "test_data = torchvision.datasets.MNIST('', train=False, download=True, transform=transform)\n",
    "\n",
    "# We can see some information about this data, including the transform we've applied.\n",
    "train_data"
   ]
  },
  {
   "cell_type": "code",
   "execution_count": 2,
   "metadata": {},
   "outputs": [
    {
     "data": {
      "image/png": "[encoded data removed]",
      "text/plain": [
       "<Figure size 1000x1000 with 16 Axes>"
      ]
     },
     "metadata": {},
     "output_type": "display_data"
    }
   ],
   "source": [
    "# Visualize the first 16 elements of the training set\n",
    "fig = plt.figure(figsize=(10, 10))\n",
    "for i in range(16):\n",
    "    ax = fig.add_subplot(4, 4, i + 1)\n",
    "    ax.set_xticks(())\n",
    "    ax.set_yticks(())\n",
    "    ax.imshow(train_data.data[i], cmap='gray')\n"
   ]
  },
  {
   "cell_type": "markdown",
   "metadata": {},
   "source": [
    "## Convolutional Neural Network (3 marks)\n",
    "\n",
    "Write a CNN class which defines your model.\n",
    "\n",
    "Below is a suggested CNN configuration, which achieves above 98% accuracy in the training, validation and testing. You could use this suggested configuration, or amend it, as you wish. If you deviate from the below configuration, you **must** include comments explaining your changes.\n",
    "- The inputs to the first layer should be 28x28x1 images (1 because these are grey scale), and this is the expected input of the model. \n",
    "- Add a convolutional layer with 25 filters of size 12x12x1 (and the ReLU non-linearity). Use a stride of 2 in both directions, and ensure that there is no padding.\n",
    "- PyTorch automatically initialises weights in most cases, but to demonstrate how it's done it here, we'll initialise weights as Gaussian random variables with mean 0 and variance 0.0025. For biases we'll initialise everything with a constant 0.1. This is because we're mainly going to be using ReLU non-linearities. **If you use a custom configuration, please ensure that you demonstrate how to manually initialise weights and biases.**\n",
    "- Add a second convolutional layer with 64 filters of size 5x5x25 that maintains the same width and height. Use stride of 1 in both directions and add padding as necessary, and use the ReLU non-linearity.\n",
    "- Add a max_pooling layer with pool size 2x2.\n",
    "- Add a Flatten-type layer: https://pytorch.org/docs/stable/generated/torch.nn.Flatten.html.\n",
    "- Add a fully connected layer with 1024 units. Each unit in the max_pool should be connected to these 1024 units. Add the ReLU non-linearity to these units.\n",
    "- Add a Dropout layer to reduce overfitting, with a 0.2 rate.\n",
    "- Add another fully connected layer to get 10 output units, and a softmax activation function.\n",
    "\n",
    "Finally, use the [pytorch-summary](https://github.com/sksq96/pytorch-summary) package to check the configuration of your CNN model. "
   ]
  },
  {
   "cell_type": "code",
   "execution_count": 9,
   "metadata": {},
   "outputs": [],
   "source": [
    "# Define the model\n",
    "class CNN(torch.nn.Module):\n",
    "    # Your code here\n",
    "    raise NotImplementedError() # remove this line"
   ]
  },
  {
   "cell_type": "code",
   "execution_count": 1,
   "metadata": {},
   "outputs": [],
   "source": [
    "# Summarise the model\n"
   ]
  },
  {
   "cell_type": "markdown",
   "metadata": {},
   "source": [
    "## Loss function, accuracy and train/test algorithm (3 marks)\n",
    "\n",
    "- We'll use the cross-entropy loss function. Hint: you may need to one-hot encode the labels.\n",
    "- Accuracy is simply defined as the fraction of data correctly classified.\n",
    "- For training, use the [AdamOptimizer](https://pytorch.org/docs/stable/generated/torch.optim.Adam.html) (read the documentation) and set the learning rate to be 1e-4. \n",
    "- Record the training and validation accuracy for each training iteration; however, do not touch the test dataset. \n",
    "- You may find it useful to print the accuracy or loss every 100 batches or so, to see how the training is progressing. This is not required."
   ]
  },
  {
   "cell_type": "code",
   "execution_count": 11,
   "metadata": {},
   "outputs": [],
   "source": [
    "# PyTorch requires that we specify a device. This is the CPU or GPU that PyTorch will use to run the model.\n",
    "device = torch.device('cuda' if torch.cuda.is_available() else 'cpu')\n",
    "\n",
    "# Your code here"
   ]
  },
  {
   "cell_type": "markdown",
   "metadata": {},
   "source": [
    "## Training and evaluation (2 marks)\n",
    "Train and evaluate your model on the MNIST dataset. Use a reasonable data split for evaluation, e.g. 10% of the training data. It would help to use minibatches (e.g. of size 50). Try about 1000-5000 iterations. You may want to start out with fewer iterations to make sure your code is making good progress. Once you are sure your code is correct, you can let it run for more iterations - it will take a bit of time for the model to finish training. Once you are sure your optimisation is working properly, you should run the resulting model on the test data."
   ]
  },
  {
   "cell_type": "code",
   "execution_count": null,
   "metadata": {},
   "outputs": [],
   "source": [
    "# Your code here"
   ]
  },
  {
   "cell_type": "markdown",
   "metadata": {},
   "source": [
    "## Loss and accuracy reporting (2 marks)\n",
    "Plot the training and validation loss and accuracy curves. Report the accuracy of your model on the test set.\n",
    "\n",
    "**Remember that your plots must have axes labels and a title. If more than one variable is displayed on the same plot, you must include a legend.**"
   ]
  },
  {
   "cell_type": "code",
   "execution_count": null,
   "metadata": {},
   "outputs": [],
   "source": [
    "# Your code here"
   ]
  }
 ],
 "metadata": {
  "kernelspec": {
   "display_name": ".venv",
   "language": "python",
   "name": "python3"
  },
  "language_info": {
   "codemirror_mode": {
    "name": "ipython",
    "version": 3
   },
   "file_extension": ".py",
   "mimetype": "text/x-python",
   "name": "python",
   "nbconvert_exporter": "python",
   "pygments_lexer": "ipython3",
   "version": "3.11.5"
  },
  "orig_nbformat": 4
 },
 "nbformat": 4,
 "nbformat_minor": 2
}
